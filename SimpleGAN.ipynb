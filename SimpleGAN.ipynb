{
 "cells": [
  {
   "cell_type": "code",
   "execution_count": 1,
   "metadata": {},
   "outputs": [
    {
     "data": {
      "text/plain": [
       "'\\nSimpleGAN \\n\\nThis notebook is meant to be a simple GAN example for numeric info \\n(maybe image and text examples also)\\n'"
      ]
     },
     "execution_count": 1,
     "metadata": {},
     "output_type": "execute_result"
    }
   ],
   "source": [
    "'''\n",
    "SimpleGAN \n",
    "\n",
    "This notebook is meant to be a simple GAN example for numeric info \n",
    "(maybe image and text examples also)\n",
    "'''"
   ]
  },
  {
   "cell_type": "code",
   "execution_count": 23,
   "metadata": {},
   "outputs": [],
   "source": [
    "import torch \n",
    "import torch.nn as nn\n",
    "from torch.utils.tensorboard import SummaryWriter\n",
    "import math \n",
    "import numpy as np\n",
    "import matplotlib.pyplot as plt\n",
    "from IPython.display import clear_output"
   ]
  },
  {
   "cell_type": "code",
   "execution_count": 3,
   "metadata": {},
   "outputs": [],
   "source": [
    "%matplotlib inline"
   ]
  },
  {
   "cell_type": "markdown",
   "metadata": {},
   "source": [
    "the first numeric GAN example will be generating sine numerics \n",
    "the GAN will generate (x1, x2) numbers from random input "
   ]
  },
  {
   "cell_type": "code",
   "execution_count": 4,
   "metadata": {},
   "outputs": [],
   "source": [
    "#create the training data for the GAN to learn its latent space \n",
    "x_input = torch.rand(1000)\n",
    "y_output = torch.sin(2 * math.pi * x_input)"
   ]
  },
  {
   "cell_type": "code",
   "execution_count": 5,
   "metadata": {},
   "outputs": [
    {
     "data": {
      "text/plain": [
       "<matplotlib.collections.PathCollection at 0x7ff635ae2490>"
      ]
     },
     "execution_count": 5,
     "metadata": {},
     "output_type": "execute_result"
    },
    {
     "data": {
      "image/png": "[encoded data removed]",
      "text/plain": [
       "<Figure size 432x288 with 1 Axes>"
      ]
     },
     "metadata": {
      "needs_background": "light"
     },
     "output_type": "display_data"
    }
   ],
   "source": [
    "plt.scatter(x_input, y_output)"
   ]
  },
  {
   "cell_type": "code",
   "execution_count": 6,
   "metadata": {},
   "outputs": [],
   "source": [
    "#save the input and output tensors as a tensor\n",
    "training_set = torch.zeros(len(x_input), 2)"
   ]
  },
  {
   "cell_type": "code",
   "execution_count": 7,
   "metadata": {},
   "outputs": [],
   "source": [
    "training_set[:, 0] = x_input"
   ]
  },
  {
   "cell_type": "code",
   "execution_count": 8,
   "metadata": {},
   "outputs": [],
   "source": [
    "training_set[:, 1] = y_output"
   ]
  },
  {
   "cell_type": "code",
   "execution_count": 9,
   "metadata": {},
   "outputs": [
    {
     "data": {
      "text/plain": [
       "tensor([[ 0.9337, -0.4044],\n",
       "        [ 0.5533, -0.3288],\n",
       "        [ 0.1215,  0.6915],\n",
       "        ...,\n",
       "        [ 0.9340, -0.4031],\n",
       "        [ 0.3596,  0.7722],\n",
       "        [ 0.5450, -0.2790]])"
      ]
     },
     "execution_count": 9,
     "metadata": {},
     "output_type": "execute_result"
    }
   ],
   "source": [
    "training_set"
   ]
  },
  {
   "cell_type": "code",
   "execution_count": 10,
   "metadata": {},
   "outputs": [
    {
     "data": {
      "text/plain": [
       "<matplotlib.collections.PathCollection at 0x7ff635dde590>"
      ]
     },
     "execution_count": 10,
     "metadata": {},
     "output_type": "execute_result"
    },
    {
     "data": {
      "image/png": "[encoded data removed]",
      "text/plain": [
       "<Figure size 432x288 with 1 Axes>"
      ]
     },
     "metadata": {
      "needs_background": "light"
     },
     "output_type": "display_data"
    }
   ],
   "source": [
    "#verify the training set tensor is correct \n",
    "plt.scatter(training_set[:, 0], training_set[:, 1])"
   ]
  },
  {
   "cell_type": "code",
   "execution_count": 11,
   "metadata": {},
   "outputs": [],
   "source": [
    "#create the data loader from torch.utils to handle batching the data \n",
    "#this dataset is used to calculate the generator's loss\n",
    "training_data = torch.utils.data.DataLoader(training_set, batch_size=100, shuffle=True)"
   ]
  },
  {
   "cell_type": "code",
   "execution_count": 12,
   "metadata": {},
   "outputs": [],
   "source": [
    "#create a random generator to match the dimensions of the output (x1, x2)\n",
    "#we need this random noise for the GAN to use as input\n",
    "def get_random_noise(z_dim):\n",
    "    return torch.randn((z_dim, 2))"
   ]
  },
  {
   "cell_type": "code",
   "execution_count": 13,
   "metadata": {},
   "outputs": [],
   "source": [
    "#create the generator \n",
    "#the first layer is a 2 for the 2 dimensions of the input data (x1, x2)\n",
    "class Generator(nn.Module):\n",
    "    def __init__(self):\n",
    "        super().__init__()\n",
    "        self.model = nn.Sequential(\n",
    "            nn.Linear(2, 32), \n",
    "            nn.ReLU(), \n",
    "            nn.Linear(32, 64), \n",
    "            nn.ReLU(), \n",
    "            nn.Linear(64, 128), \n",
    "            nn.ReLU(), \n",
    "            nn.Linear(128, 2))\n",
    "        \n",
    "    def forward(self, data):\n",
    "        return self.model(data)"
   ]
  },
  {
   "cell_type": "code",
   "execution_count": 14,
   "metadata": {},
   "outputs": [],
   "source": [
    "#create the discriminator \n",
    "class Discriminator(nn.Module):\n",
    "    def __init__(self):\n",
    "        super().__init__()\n",
    "        self.model = nn.Sequential(\n",
    "            nn.Linear(2, 256), \n",
    "            nn.ReLU(), \n",
    "            nn.Linear(256, 128), \n",
    "            nn.ReLU(), \n",
    "            nn.Linear(128, 64), \n",
    "            nn.ReLU(), \n",
    "            nn.Linear(64, 1), \n",
    "            nn.Sigmoid())\n",
    "        \n",
    "    def forward(self, data):\n",
    "        return self.model(data)"
   ]
  },
  {
   "cell_type": "code",
   "execution_count": 32,
   "metadata": {},
   "outputs": [],
   "source": [
    "gen = Generator()\n",
    "disc = Discriminator()"
   ]
  },
  {
   "cell_type": "code",
   "execution_count": 33,
   "metadata": {},
   "outputs": [],
   "source": [
    "loss = nn.BCELoss()\n",
    "lr = 0.0001\n",
    "batch_size = 50\n",
    "epochs = 500"
   ]
  },
  {
   "cell_type": "code",
   "execution_count": 34,
   "metadata": {},
   "outputs": [],
   "source": [
    "gen_opt = torch.optim.Adam(gen.parameters(), lr=lr)\n",
    "disc_opt = torch.optim.Adam(disc.parameters(), lr=lr)"
   ]
  },
  {
   "cell_type": "code",
   "execution_count": 35,
   "metadata": {},
   "outputs": [
    {
     "data": {
      "image/png": "[encoded data removed]",
      "text/plain": [
       "<Figure size 432x288 with 1 Axes>"
      ]
     },
     "metadata": {
      "needs_background": "light"
     },
     "output_type": "display_data"
    }
   ],
   "source": [
    "#loop through the entire dataset [epoch] number of times\n",
    "writer = SummaryWriter()\n",
    "plt.ion()\n",
    "fig = plt.figure()\n",
    "ax = fig.add_subplot(111)\n",
    "random_input = get_random_noise(batch_size)\n",
    "plot_output = gen(random_input).detach().numpy()\n",
    "plt.scatter(plot_output[:, 0], plot_output[:, 1])\n",
    "plt.draw()\n",
    "for i in range(0, epochs):\n",
    "    #for each batch, train and update the models\n",
    "    for n, samples in enumerate(training_data):\n",
    "        #the training data is the REAL data, the fake data is randomly generated\n",
    "        #label the real samples from the batch as real with a 1\n",
    "        fake_output = gen(get_random_noise(len(samples)))\n",
    "        fake_labels = torch.zeros((len(samples), 1))\n",
    "        real_labels = torch.ones((len(samples), 1))\n",
    "        all_samples = torch.cat((samples, fake_output))\n",
    "        all_labels = torch.cat((real_labels, fake_labels))\n",
    "        \n",
    "        #get the discriminator's predictions first \n",
    "        disc.zero_grad()\n",
    "        disc_output = disc(all_samples)\n",
    "        #the loss needs to have the model output first \n",
    "        disc_loss = loss(disc_output, all_labels)\n",
    "        disc_loss.backward()\n",
    "        disc_opt.step()\n",
    "        \n",
    "        #train the generator\n",
    "        gen.zero_grad()\n",
    "        random_input = get_random_noise(len(samples))\n",
    "        gen_output = gen(random_input)\n",
    "        #we want the genertor to be corrected based on feedback from the discriminator\n",
    "        #in order to correct it, we want the generator lables to \"appear\" real so we use the\n",
    "        #real label for the generator when calculating the loss\n",
    "        gen_loss = loss(disc(gen_output), real_labels)\n",
    "        writer.add_scalar(\"Gen Loss/train\", gen_loss, i)\n",
    "        writer.add_scalar(\"Disc Loss/train\", disc_loss, i)\n",
    "        gen_loss.backward()\n",
    "        gen_opt.step()\n",
    "    \n",
    "    if i % 100 == 0:\n",
    "        clear_output(wait=True)\n",
    "        plot_output = gen_output.detach().numpy()\n",
    "        plt.title(f\"Epoch: {i}\")\n",
    "        plt.scatter(plot_output[:, 0], plot_output[:, 1])\n",
    "        plt.draw()\n",
    "        plt.pause(0.0001)\n",
    "    \n",
    "writer.flush()"
   ]
  },
  {
   "cell_type": "code",
   "execution_count": null,
   "metadata": {},
   "outputs": [],
   "source": [
    "np.column_stack((plot_output[:, 0], plot_output[:, 1]))"
   ]
  },
  {
   "cell_type": "code",
   "execution_count": null,
   "metadata": {},
   "outputs": [],
   "source": [
    "latent_space_samples = torch.randn(100, 2)\n",
    "generated_samples = gen(latent_space_samples)"
   ]
  },
  {
   "cell_type": "code",
   "execution_count": null,
   "metadata": {},
   "outputs": [],
   "source": [
    "generated_samples = generated_samples.detach()\n",
    "plt.plot(generated_samples[:, 0], generated_samples[:, 1], \".\")"
   ]
  },
  {
   "cell_type": "code",
   "execution_count": null,
   "metadata": {},
   "outputs": [],
   "source": []
  }
 ],
 "metadata": {
  "kernelspec": {
   "display_name": "Python 3",
   "language": "python",
   "name": "python3"
  },
  "language_info": {
   "codemirror_mode": {
    "name": "ipython",
    "version": 3
   },
   "file_extension": ".py",
   "mimetype": "text/x-python",
   "name": "python",
   "nbconvert_exporter": "python",
   "pygments_lexer": "ipython3",
   "version": "3.7.4"
  }
 },
 "nbformat": 4,
 "nbformat_minor": 2
}
